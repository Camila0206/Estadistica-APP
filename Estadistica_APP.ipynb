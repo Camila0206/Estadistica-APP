{
 "cells": [
  {
   "cell_type": "code",
   "execution_count": 34,
   "id": "929ba5be",
   "metadata": {},
   "outputs": [],
   "source": [
    "import numpy as np\n",
    "from scipy.stats import binom\n",
    "import tkinter"
   ]
  },
  {
   "cell_type": "code",
   "execution_count": 35,
   "id": "511e08f9",
   "metadata": {},
   "outputs": [],
   "source": [
    "def binomial(nsol,psol):\n",
    "    \n",
    "   # n = [nsol]\n",
    "   # p = [psol]\n",
    "    n=np.asarray(nsol)\n",
    "    p=np.asarray(psol)\n",
    "    \n",
    "    r_values = list(range(n + 1)) \n",
    "    mean, var = binom.stats(n, p) \n",
    " #   mean, var = scipy.special.comb(n, p, exact=True)\n",
    "\n",
    "   # x = np.arange(binom.ppf(0.01, n, p),binom.ppf(0.99, n, p))\n",
    "   # dist = [binom.pmf(x, n, p)for x in r_values ]  \n",
    "    dist = [binom.pmf(r, n, p)for r in r_values ]  \n",
    "    acom =\"\"\n",
    "    for i in range(n + 1):\n",
    "        nf = r_values[i]\n",
    "        pf = dist[i]\n",
    "        \n",
    "        sol= \"n:\", nf, \"p:\", pf\n",
    "        acom= acom +\"\\n\"+ str(sol)\n",
    "        \n",
    "    return acom\n"
   ]
  },
  {
   "cell_type": "code",
   "execution_count": 36,
   "id": "23f5cbd7",
   "metadata": {},
   "outputs": [],
   "source": [
    "#print(binomial(6,0.6))"
   ]
  },
  {
   "cell_type": "code",
   "execution_count": 37,
   "id": "c04c80f7",
   "metadata": {},
   "outputs": [],
   "source": [
    "inicio = tkinter.Tk()\n",
    "inicio.geometry(\"500x357\")\n",
    "\n",
    "A=[]\n",
    "B=[]\n",
    "\n",
    "def binomi():\n",
    "    binomi = tkinter.Tk()\n",
    "    binomi.geometry(\"500x500\")\n",
    "    \n",
    "    etiquetaEcuaciones= tkinter.Label(binomi, text= \"Ingrese n\",font=\"Arial 15\")\n",
    "    etiquetaEcuaciones.pack()\n",
    "    cajaEcuaciones = tkinter.Entry(binomi, font=\"Arial 20\")\n",
    "    cajaEcuaciones.pack()\n",
    "    \n",
    "    etiquetaResultados= tkinter.Label(binomi, text= \"Ingrese p\",font=\"Arial 15\")\n",
    "    etiquetaResultados.pack()\n",
    "    cajaResultados = tkinter.Entry(binomi, font=\"Arial 20\")\n",
    "    cajaResultados.pack()\n",
    "    \n",
    "    etiquetaResultado1= tkinter.Label(binomi, text= \"\", font=\"Arial 15\")\n",
    "    etiquetaResultado1.pack(pady=5)\n",
    "    etiquetaResultado= tkinter.Label(binomi, text= \"\", font=\"Arial 15\")\n",
    "    etiquetaResultado.pack(pady=25)\n",
    "    \n",
    "    def asignarDatos():   \n",
    "        A = eval(str(cajaEcuaciones.get()))\n",
    "        B = eval(str(cajaResultados.get()))\n",
    "        etiquetaResultado1[\"text\"]= \"Distribución Binomial\"\n",
    "        etiquetaResultado[\"text\"]= binomial(A,B)\n",
    "    \n",
    "    calcular =tkinter.Button(binomi,text= \"Calcular\", command = asignarDatos)\n",
    "    calcular.pack()\n",
    "    \n",
    "    \n",
    "    binomi.mainloop()\n",
    "    \n",
    "etiqueta= tkinter.Label(inicio, text = \"Aplicativo\", bg= \"yellow\")\n",
    "etiqueta.pack()\n",
    "\n",
    "botonBinom =tkinter.Button(inicio, text= \"Distribución Binomial\", padx=100, pady=30, command= binomi)\n",
    "botonBinom.pack(fill= tkinter.X)\n",
    "\n",
    "inicio.mainloop()   \n",
    "    "
   ]
  },
  {
   "cell_type": "code",
   "execution_count": null,
   "id": "c4ddb131",
   "metadata": {},
   "outputs": [],
   "source": []
  },
  {
   "cell_type": "code",
   "execution_count": null,
   "id": "191a0d2b",
   "metadata": {},
   "outputs": [],
   "source": []
  }
 ],
 "metadata": {
  "kernelspec": {
   "display_name": "Python 3",
   "language": "python",
   "name": "python3"
  },
  "language_info": {
   "codemirror_mode": {
    "name": "ipython",
    "version": 3
   },
   "file_extension": ".py",
   "mimetype": "text/x-python",
   "name": "python",
   "nbconvert_exporter": "python",
   "pygments_lexer": "ipython3",
   "version": "3.8.8"
  }
 },
 "nbformat": 4,
 "nbformat_minor": 5
}
